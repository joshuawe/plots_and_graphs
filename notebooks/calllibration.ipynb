{
 "cells": [
  {
   "cell_type": "markdown",
   "metadata": {},
   "source": [
    "# Callibration plot"
   ]
  },
  {
   "cell_type": "code",
   "execution_count": null,
   "metadata": {},
   "outputs": [
    {
     "ename": "",
     "evalue": "",
     "output_type": "error",
     "traceback": [
      "\u001b[1;31mRunning cells with 'c:\\Program Files\\Python310\\python.exe' requires the ipykernel package.\n",
      "\u001b[1;31mRun the following command to install 'ipykernel' into the Python environment. \n",
      "\u001b[1;31mCommand: '\"c:/Program Files/Python310/python.exe\" -m pip install ipykernel -U --user --force-reinstall'"
     ]
    }
   ],
   "source": [
    "import numpy as np\n",
    "import matplotlib.pyplot as plt\n",
    "# import ..src.binary_classifier as binary_classifier\n",
    "from ..src import binary_classifier as binary_classifier"
   ]
  },
  {
   "cell_type": "code",
   "execution_count": null,
   "metadata": {},
   "outputs": [
    {
     "ename": "",
     "evalue": "",
     "output_type": "error",
     "traceback": [
      "\u001b[1;31mRunning cells with '.venv' requires the ipykernel package.\n",
      "\u001b[1;31mRun the following command to install 'ipykernel' into the Python environment. \n",
      "\u001b[1;31mCommand: 'c:/Users/joshua.wendland/Documents/plots_and_graphs/.venv/Scripts/python.exe -m pip install ipykernel -U --force-reinstall'"
     ]
    }
   ],
   "source": [
    "# create some data\n",
    "n_samples = 1000\n",
    "y_prob = np.random.uniform(0, 1, n_samples)   # the probability of class 1 predictions\n",
    "y_true = np.random.choice([0,1], n_samples)   # the actually corresponding class labels\n",
    "\n",
    "# create figure\n",
    "fig_auroc = binary_classifier.plot_calibration_curve(y_prob, y_true, save_fig_path=None)\n",
    "\n",
    "# customize figure\n",
    "axes = fig_auroc.get_axes()\n",
    "ax0 = axes[0]\n",
    "ax0.set_title('New Title for Calibration Plot')\n",
    "\n",
    "# save figure\n",
    "fig.savefig('calibration_plot.png', bbox_inches='tight')"
   ]
  }
 ],
 "metadata": {
  "kernelspec": {
   "display_name": ".venv",
   "language": "python",
   "name": "python3"
  },
  "language_info": {
   "name": "python",
   "version": "3.10.3"
  },
  "orig_nbformat": 4
 },
 "nbformat": 4,
 "nbformat_minor": 2
}
